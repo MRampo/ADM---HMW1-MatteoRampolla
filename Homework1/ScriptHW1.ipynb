{
 "cells": [
  {
   "cell_type": "code",
   "execution_count": 2,
   "id": "43d14501",
   "metadata": {},
   "outputs": [],
   "source": [
    "import json\n",
    "\n",
    "HM1=open('rampolla_1762214.py','w')\n",
    "\n",
    "# Opening JSON file\n",
    "f = open('matteo_rampolla1_data.json')\n",
    "  \n",
    "# returns JSON object as \n",
    "# a dictionary\n",
    "data = json.load(f)\n",
    "  \n",
    "# Iterating through the json\n",
    "# list\n",
    "challenge=[]\n",
    "for i in data['submissions']:\n",
    "    if (i['score']==1.0 and i['challenge'] not in challenge):\n",
    "        HM1.write('#'+i['challenge']+'\\n')\n",
    "        challenge.append(i['challenge'])\n",
    "        HM1.write(i['code'])\n",
    "    HM1.write('\\n')\n",
    "\n",
    "HM1.close()       \n",
    "# Closing file\n",
    "f.close()"
   ]
  },
  {
   "cell_type": "code",
   "execution_count": null,
   "id": "725565bf",
   "metadata": {},
   "outputs": [],
   "source": []
  }
 ],
 "metadata": {
  "kernelspec": {
   "display_name": "Python 3 (ipykernel)",
   "language": "python",
   "name": "python3"
  },
  "language_info": {
   "codemirror_mode": {
    "name": "ipython",
    "version": 3
   },
   "file_extension": ".py",
   "mimetype": "text/x-python",
   "name": "python",
   "nbconvert_exporter": "python",
   "pygments_lexer": "ipython3",
   "version": "3.9.12"
  }
 },
 "nbformat": 4,
 "nbformat_minor": 5
}
